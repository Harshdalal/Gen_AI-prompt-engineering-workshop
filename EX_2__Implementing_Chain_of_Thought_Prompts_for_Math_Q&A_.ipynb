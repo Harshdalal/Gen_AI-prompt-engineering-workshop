{
  "nbformat": 4,
  "nbformat_minor": 5,
  "metadata": {
    "colab": {
      "provenance": []
    },
    "kernelspec": {
      "name": "python3",
      "display_name": "Python 3"
    },
    "language_info": {
      "name": "python"
    }
  },
  "cells": [
    {
      "cell_type": "markdown",
      "source": [
        "# Assignment: Implementing Chain-of-Thought Prompts for Math Q&A\n",
        "\n",
        "**Objective:** This assignment focuses on implementing and comparing Chain-of-Thought (CoT) prompting strategies for solving mathematical word problems using Large Language Models (LLMs).\n",
        "\n",
        "**Instructions:**\n",
        "\n",
        "1.  **Environment Setup:** Set up your chosen LLM API (e.g., Google Gemini, OpenAI GPT) in the designated code cell.\n",
        "2.  **Implement Prompting Strategies:** For each section (Zero-Shot, Zero-Shot CoT, Few-Shot CoT), implement the described prompting strategy in Python.\n",
        "3.  **Test and Observe:** Run your implemented prompts against the provided math problems.\n",
        "4.  **Analyze & Reflect:** After each section, answer the brief analysis questions in the Markdown cells, discussing the observed performance and reasoning style of the LLM.\n",
        "\n",
        "---"
      ],
      "metadata": {
        "id": "lwQv5un4-5GA"
      },
      "id": "lwQv5un4-5GA"
    },
    {
      "cell_type": "markdown",
      "source": [
        "## Part 1: LLM API Setup"
      ],
      "metadata": {
        "id": "oC8A8ip5-5GD"
      },
      "id": "oC8A8ip5-5GD"
    },
    {
      "cell_type": "code",
      "execution_count": null,
      "metadata": {
        "outputs": [],
        "id": "VMpgmW9S-5GE"
      },
      "outputs": [],
      "source": [
        "# Install the necessary library (uncomment if you haven't already)\n",
        "# !pip install google-generativeai\n",
        "\n",
        "import google.generativeai as genai\n",
        "import os\n",
        "\n",
        "# Set your API key here. It's recommended to load from environment variables.\n",
        "# For example: os.getenv(\"GOOGLE_API_KEY\")\n",
        "API_KEY = \"YOUR_API_KEY\" # REPLACE WITH YOUR ACTUAL API KEY\n",
        "\n",
        "genai.configure(api_key=API_KEY)\n",
        "model = genai.GenerativeModel('gemini-pro') # You can choose other models if available\n",
        "\n",
        "print(\"LLM API setup ready.\")"
      ],
      "id": "VMpgmW9S-5GE"
    },
    {
      "cell_type": "markdown",
      "source": [
        "## Part 2: Math Problems"
      ],
      "metadata": {
        "id": "w4c1g6JV-5GG"
      },
      "id": "w4c1g6JV-5GG"
    },
    {
      "cell_type": "code",
      "execution_count": null,
      "metadata": {
        "id": "F-FD4DtR-5GG"
      },
      "outputs": [],
      "source": [
        "problems = [\n",
        "    \"If a box contains 15 red balls and 8 blue balls, how many balls are there in total?\",\n",
        "    \"Emily started with 50 stickers. She gave 12 to her friend and bought 7 more. How many stickers does Emily have now?\",\n",
        "    \"A car travels at 70 miles per hour for 3 hours. How far does it travel?\",\n",
        "    \"A school has 6 classes, and each class has 25 students. If 10 students are absent today, how many students are present?\"\n",
        "]"
      ],
      "id": "F-FD4DtR-5GG"
    },
    {
      "cell_type": "markdown",
      "source": [
        "## Part 3: Prompting Strategies and Implementation"
      ],
      "metadata": {
        "id": "TYRpl-9K-5GH"
      },
      "id": "TYRpl-9K-5GH"
    },
    {
      "cell_type": "markdown",
      "source": [
        "### 3.1: Zero-Shot Prompting (Baseline)\n",
        "\n",
        "Implement a function that uses a simple zero-shot prompt to solve the math problems. Run it for each problem in `problems`."
      ],
      "metadata": {
        "id": "-3JM03uo-5GH"
      },
      "id": "-3JM03uo-5GH"
    },
    {
      "cell_type": "code",
      "execution_count": null,
      "metadata": {
        "id": "JJR7jsmo-5GI"
      },
      "outputs": [],
      "source": [
        "# Implement your zero_shot_prompt function here\n",
        "# Loop through 'problems' and print results"
      ],
      "id": "JJR7jsmo-5GI"
    },
    {
      "cell_type": "markdown",
      "source": [
        "**Question 3.1.1:** Briefly comment on the performance of zero-shot prompting. For which problem types (simple vs. multi-step) does it perform best/worst?"
      ],
      "metadata": {
        "id": "hAVWaUaA-5GI"
      },
      "id": "hAVWaUaA-5GI"
    },
    {
      "cell_type": "markdown",
      "source": [
        "**Your Answer:** [Your analysis here]"
      ],
      "metadata": {
        "id": "IB6xPi0h-5GJ"
      },
      "id": "IB6xPi0h-5GJ"
    },
    {
      "cell_type": "markdown",
      "source": [
        "### 3.2: Zero-Shot CoT Prompting (\"Let's think step by step\")\n",
        "\n",
        "Implement a function for zero-shot CoT prompting by adding the phrase \"Let's think step by step\" (or similar) to your prompt. Run it for each problem."
      ],
      "metadata": {
        "id": "H-vbdgUq-5GJ"
      },
      "id": "H-vbdgUq-5GJ"
    },
    {
      "cell_type": "code",
      "execution_count": null,
      "metadata": {
        "id": "oAICXVXb-5GK"
      },
      "outputs": [],
      "source": [
        "# Implement your zero_shot_cot_prompt function here\n",
        "# Loop through 'problems' and print results"
      ],
      "id": "oAICXVXb-5GK"
    },
    {
      "cell_type": "markdown",
      "source": [
        "**Question 3.2.1:** How does the LLM's response change with this simple CoT phrase? Does it seem more accurate or transparent?"
      ],
      "metadata": {
        "id": "WUH-XBW7-5GK"
      },
      "id": "WUH-XBW7-5GK"
    },
    {
      "cell_type": "markdown",
      "source": [
        "**Your Answer:** [Your analysis here]"
      ],
      "metadata": {
        "id": "ozczdZti-5GK"
      },
      "id": "ozczdZti-5GK"
    },
    {
      "cell_type": "markdown",
      "source": [
        "### 3.3: Few-Shot CoT Prompting\n",
        "\n",
        "Implement a function for few-shot CoT prompting. Provide at least one example of a math problem with its step-by-step reasoning and final answer within the prompt. Run it for each problem.\n",
        "\n",
        "**Example for your prompt (you can modify/add more):**\n",
        "```\n",
        "Question: A box has 7 red pens and 3 blue pens. How many pens are there in total?\n",
        "Reasoning: To find the total, I add the number of red pens and blue pens.\n",
        "Calculation: 7 + 3 = 10.\n",
        "Answer: 10 pens.\n",
        "```"
      ],
      "metadata": {
        "id": "XiXz61Vg-5GL"
      },
      "id": "XiXz61Vg-5GL"
    },
    {
      "cell_type": "code",
      "execution_count": null,
      "metadata": {
        "id": "3VvVY8iW-5GL"
      },
      "outputs": [],
      "source": [
        "# Implement your few_shot_cot_prompt function here\n",
        "# Ensure you include at least one example with step-by-step reasoning\n",
        "# Loop through 'problems' and print results"
      ],
      "id": "3VvVY8iW-5GL"
    },
    {
      "cell_type": "markdown",
      "source": [
        "**Question 3.3.1:** Compare the structure and accuracy of the few-shot CoT responses with the zero-shot CoT responses. What are the advantages of providing examples?"
      ],
      "metadata": {
        "id": "3qcCyn_n-5GL"
      },
      "id": "3qcCyn_n-5GL"
    },
    {
      "cell_type": "markdown",
      "source": [
        "**Your Answer:** [Your analysis here]"
      ],
      "metadata": {
        "id": "WFlYC7mN-5GM"
      },
      "id": "WFlYC7mN-5GM"
    },
    {
      "cell_type": "markdown",
      "source": [
        "## Part 4: Conclusion"
      ],
      "metadata": {
        "id": "jIWepTWR-5GM"
      },
      "id": "jIWepTWR-5GM"
    },
    {
      "cell_type": "markdown",
      "source": [
        "**Question 4.1:** Summarize your key takeaway about the effectiveness of CoT prompting for math Q&A. When would you choose few-shot CoT over zero-shot CoT, and vice-versa?"
      ],
      "metadata": {
        "id": "nwzy09Lq-5GM"
      },
      "id": "nwzy09Lq-5GM"
    },
    {
      "cell_type": "markdown",
      "source": [
        "**Your Answer:** [Your summary here]"
      ],
      "metadata": {
        "id": "GDSF7QlD-5GM"
      },
      "id": "GDSF7QlD-5GM"
    }
  ]
}